{
 "cells": [
  {
   "cell_type": "code",
   "execution_count": 1,
   "metadata": {},
   "outputs": [],
   "source": [
    "%load_ext autoreload\n",
    "%autoreload 2\n",
    "import sys, os, torch, datetime\n",
    "import numpy as np\n",
    "sys.path.append(\"..\")\n",
    "import rfi_ml\n",
    "import matplotlib.pyplot as plt"
   ]
  },
  {
   "cell_type": "code",
   "execution_count": 2,
   "metadata": {},
   "outputs": [],
   "source": [
    "Ntrain = 100000 #the size of the training set\n",
    "Ntest = 10\n",
    "sigma_low = 0.03\n",
    "sigma_high = 0.03\n",
    "Nepochs = 3\n",
    "np.random.seed(0) #for debugging\n",
    "torch.manual_seed(0) #more debugging\n",
    "t = rfi_ml.ToyGenerator()\n",
    "g = torch.stack([torch.from_numpy(t.getGaussian()) for i in range(Ntrain+Ntest)])\n",
    "ng = torch.stack([torch.from_numpy(t.getNonGaussianLocalized(sigma=(sigma_low, sigma_high))) for i in range(Ntrain+Ntest)])\n"
   ]
  },
  {
   "cell_type": "code",
   "execution_count": 4,
   "metadata": {},
   "outputs": [],
   "source": [
    "n = rfi_ml.RFIDetect(t.N)"
   ]
  },
  {
   "cell_type": "code",
   "execution_count": 5,
   "metadata": {},
   "outputs": [
    {
     "name": "stdout",
     "output_type": "stream",
     "text": [
      "[  0/3][  0/3125]\tLoss: 0.0020396314\n",
      "[  0/3][100/3125]\tLoss: 0.0012840308\n",
      "[  0/3][200/3125]\tLoss: 0.0014177836\n",
      "[  0/3][300/3125]\tLoss: 0.0012635158\n",
      "[  0/3][400/3125]\tLoss: 0.0013053633\n",
      "[  0/3][500/3125]\tLoss: 0.0012558863\n",
      "[  0/3][600/3125]\tLoss: 0.0012637856\n",
      "[  0/3][700/3125]\tLoss: 0.0012630094\n",
      "[  0/3][800/3125]\tLoss: 0.0012273312\n",
      "[  0/3][900/3125]\tLoss: 0.0012013507\n",
      "[  0/3][1000/3125]\tLoss: 0.0012612687\n",
      "[  0/3][1100/3125]\tLoss: 0.0012096667\n",
      "[  0/3][1200/3125]\tLoss: 0.0012510667\n",
      "[  0/3][1300/3125]\tLoss: 0.0012700292\n",
      "[  0/3][1400/3125]\tLoss: 0.0012602669\n",
      "[  0/3][1500/3125]\tLoss: 0.0012575523\n",
      "[  0/3][1600/3125]\tLoss: 0.0012189510\n",
      "[  0/3][1700/3125]\tLoss: 0.0012320076\n",
      "[  0/3][1800/3125]\tLoss: 0.0012188797\n",
      "[  0/3][1900/3125]\tLoss: 0.0012423766\n",
      "[  0/3][2000/3125]\tLoss: 0.0012400369\n",
      "[  0/3][2100/3125]\tLoss: 0.0012350675\n",
      "[  0/3][2200/3125]\tLoss: 0.0012383685\n",
      "[  0/3][2300/3125]\tLoss: 0.0011585031\n",
      "[  0/3][2400/3125]\tLoss: 0.0012328201\n",
      "[  0/3][2500/3125]\tLoss: 0.0011732216\n",
      "[  0/3][2600/3125]\tLoss: 0.0011315236\n",
      "[  0/3][2700/3125]\tLoss: 0.0011856611\n",
      "[  0/3][2800/3125]\tLoss: 0.0011377442\n",
      "[  0/3][2900/3125]\tLoss: 0.0011426918\n",
      "[  0/3][3000/3125]\tLoss: 0.0011912151\n",
      "[  0/3][3100/3125]\tLoss: 0.0012245288\n",
      "[  1/3][ 75/3125]\tLoss: 0.0011768313\n",
      "[  1/3][175/3125]\tLoss: 0.0011602413\n",
      "[  1/3][275/3125]\tLoss: 0.0011821508\n",
      "[  1/3][375/3125]\tLoss: 0.0012285025\n",
      "[  1/3][475/3125]\tLoss: 0.0012444624\n",
      "[  1/3][575/3125]\tLoss: 0.0011704046\n",
      "[  1/3][675/3125]\tLoss: 0.0011877898\n",
      "[  1/3][775/3125]\tLoss: 0.0012039325\n",
      "[  1/3][875/3125]\tLoss: 0.0012060292\n",
      "[  1/3][975/3125]\tLoss: 0.0011820325\n",
      "[  1/3][1075/3125]\tLoss: 0.0011536245\n",
      "[  1/3][1175/3125]\tLoss: 0.0011561104\n",
      "[  1/3][1275/3125]\tLoss: 0.0011310289\n",
      "[  1/3][1375/3125]\tLoss: 0.0011387304\n",
      "[  1/3][1475/3125]\tLoss: 0.0011357022\n",
      "[  1/3][1575/3125]\tLoss: 0.0012061683\n",
      "[  1/3][1675/3125]\tLoss: 0.0011132144\n",
      "[  1/3][1775/3125]\tLoss: 0.0011509818\n",
      "[  1/3][1875/3125]\tLoss: 0.0011255244\n",
      "[  1/3][1975/3125]\tLoss: 0.0010931098\n",
      "[  1/3][2075/3125]\tLoss: 0.0011583176\n",
      "[  1/3][2175/3125]\tLoss: 0.0011855511\n",
      "[  1/3][2275/3125]\tLoss: 0.0011424080\n",
      "[  1/3][2375/3125]\tLoss: 0.0011306830\n",
      "[  1/3][2475/3125]\tLoss: 0.0011248355\n",
      "[  1/3][2575/3125]\tLoss: 0.0010989865\n",
      "[  1/3][2675/3125]\tLoss: 0.0011789965\n",
      "[  1/3][2775/3125]\tLoss: 0.0010826271\n",
      "[  1/3][2875/3125]\tLoss: 0.0011399153\n",
      "[  1/3][2975/3125]\tLoss: 0.0010849561\n",
      "[  1/3][3075/3125]\tLoss: 0.0010343050\n",
      "[  2/3][ 50/3125]\tLoss: 0.0010963379\n",
      "[  2/3][150/3125]\tLoss: 0.0010747345\n",
      "[  2/3][250/3125]\tLoss: 0.0010914908\n",
      "[  2/3][350/3125]\tLoss: 0.0010925565\n",
      "[  2/3][450/3125]\tLoss: 0.0011232948\n",
      "[  2/3][550/3125]\tLoss: 0.0010879842\n",
      "[  2/3][650/3125]\tLoss: 0.0011373780\n",
      "[  2/3][750/3125]\tLoss: 0.0010431621\n",
      "[  2/3][850/3125]\tLoss: 0.0011245240\n",
      "[  2/3][950/3125]\tLoss: 0.0011242356\n",
      "[  2/3][1050/3125]\tLoss: 0.0011292214\n",
      "[  2/3][1150/3125]\tLoss: 0.0010654472\n",
      "[  2/3][1250/3125]\tLoss: 0.0009868932\n",
      "[  2/3][1350/3125]\tLoss: 0.0010551963\n",
      "[  2/3][1450/3125]\tLoss: 0.0010738340\n",
      "[  2/3][1550/3125]\tLoss: 0.0010695013\n",
      "[  2/3][1650/3125]\tLoss: 0.0010436347\n",
      "[  2/3][1750/3125]\tLoss: 0.0010736557\n",
      "[  2/3][1850/3125]\tLoss: 0.0009988945\n",
      "[  2/3][1950/3125]\tLoss: 0.0011999421\n",
      "[  2/3][2050/3125]\tLoss: 0.0009367977\n",
      "[  2/3][2150/3125]\tLoss: 0.0010317557\n",
      "[  2/3][2250/3125]\tLoss: 0.0010019501\n",
      "[  2/3][2350/3125]\tLoss: 0.0010349498\n",
      "[  2/3][2450/3125]\tLoss: 0.0009482444\n",
      "[  2/3][2550/3125]\tLoss: 0.0010224844\n",
      "[  2/3][2650/3125]\tLoss: 0.0010500844\n",
      "[  2/3][2750/3125]\tLoss: 0.0009765102\n",
      "[  2/3][2850/3125]\tLoss: 0.0010621733\n",
      "[  2/3][2950/3125]\tLoss: 0.0010490902\n",
      "[  2/3][3050/3125]\tLoss: 0.0009643131\n"
     ]
    }
   ],
   "source": [
    "n.train(g[:Ntrain], ng[:Ntrain], epochs=Nepochs)"
   ]
  },
  {
   "cell_type": "code",
   "execution_count": 6,
   "metadata": {},
   "outputs": [
    {
     "name": "stdout",
     "output_type": "stream",
     "text": [
      "tensor([[ 7.4370e-03,  6.8849e-03,  5.8517e-03,  ...,  9.9813e-03,\n",
      "         -7.5485e-04,  2.6866e-03],\n",
      "        [ 9.8192e-04,  4.2964e-04,  2.4245e-03,  ...,  8.2580e-04,\n",
      "          6.4404e-04,  6.6084e-04],\n",
      "        [-4.1935e-03, -4.8673e-03,  5.5679e-03,  ..., -5.6281e-04,\n",
      "          2.0389e-04, -1.6131e-03],\n",
      "        ...,\n",
      "        [-5.0390e-03, -5.5614e-03, -3.1580e-04,  ..., -8.3409e-03,\n",
      "         -8.5574e-03,  2.8881e-03],\n",
      "        [-3.2365e-03, -7.1140e-03,  1.7461e-03,  ..., -3.7773e-03,\n",
      "         -2.6911e-03, -4.7735e-03],\n",
      "        [ 5.6963e-04, -1.1726e-03,  1.2447e-03,  ...,  3.4246e-04,\n",
      "          6.5678e-05,  1.2222e-03]], device='cuda:0')\n"
     ]
    }
   ],
   "source": [
    "testout = n.evaluate(g[Ntrain:], ng[Ntrain:])"
   ]
  },
  {
   "cell_type": "code",
   "execution_count": 7,
   "metadata": {},
   "outputs": [
    {
     "name": "stdout",
     "output_type": "stream",
     "text": [
      "Saving file...rfi_ml/2021-06-15_14-07-08_epoch_0000003_test_0.png\n",
      "Saving file...rfi_ml/2021-06-15_14-07-08_overplot_test_0.png\n",
      "Saving file...rfi_ml/2021-06-15_14-07-08_epoch_0000003_test_1.png\n",
      "Saving file...rfi_ml/2021-06-15_14-07-08_overplot_test_1.png\n",
      "Saving file...rfi_ml/2021-06-15_14-07-08_epoch_0000003_test_2.png\n",
      "Saving file...rfi_ml/2021-06-15_14-07-08_overplot_test_2.png\n",
      "Saving file...rfi_ml/2021-06-15_14-07-08_epoch_0000003_test_3.png\n",
      "Saving file...rfi_ml/2021-06-15_14-07-08_overplot_test_3.png\n",
      "Saving file...rfi_ml/2021-06-15_14-07-08_epoch_0000003_test_4.png\n",
      "Saving file...rfi_ml/2021-06-15_14-07-08_overplot_test_4.png\n",
      "Saving file...rfi_ml/2021-06-15_14-07-08_epoch_0000003_test_5.png\n",
      "Saving file...rfi_ml/2021-06-15_14-07-08_overplot_test_5.png\n",
      "Saving file...rfi_ml/2021-06-15_14-07-08_epoch_0000003_test_6.png\n",
      "Saving file...rfi_ml/2021-06-15_14-07-08_overplot_test_6.png\n",
      "Saving file...rfi_ml/2021-06-15_14-07-08_epoch_0000003_test_7.png\n",
      "Saving file...rfi_ml/2021-06-15_14-07-08_overplot_test_7.png\n",
      "Saving file...rfi_ml/2021-06-15_14-07-08_epoch_0000003_test_8.png\n",
      "Saving file...rfi_ml/2021-06-15_14-07-08_overplot_test_8.png\n",
      "Saving file...rfi_ml/2021-06-15_14-07-08_epoch_0000003_test_9.png\n",
      "Saving file...rfi_ml/2021-06-15_14-07-08_overplot_test_9.png\n",
      "Numpy rand int check:  [0.95458435]\n",
      "Torch rand int check:  tensor([0.5666])\n"
     ]
    }
   ],
   "source": [
    "n.plot_eval(testout, g[Ntrain:], ng[Ntrain:], Nepochs)"
   ]
  },
  {
   "cell_type": "code",
   "execution_count": null,
   "metadata": {},
   "outputs": [],
   "source": []
  }
 ],
 "metadata": {
  "kernelspec": {
   "display_name": "Python 3",
   "language": "python",
   "name": "python3"
  },
  "language_info": {
   "codemirror_mode": {
    "name": "ipython",
    "version": 3
   },
   "file_extension": ".py",
   "mimetype": "text/x-python",
   "name": "python",
   "nbconvert_exporter": "python",
   "pygments_lexer": "ipython3",
   "version": "3.8.5"
  }
 },
 "nbformat": 4,
 "nbformat_minor": 4
}
