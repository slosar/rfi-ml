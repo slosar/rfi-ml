{
 "cells": [
  {
   "cell_type": "code",
   "execution_count": 1,
   "metadata": {},
   "outputs": [],
   "source": [
    "%load_ext autoreload\n",
    "%autoreload 2\n",
    "import sys, os, torch, datetime, time\n",
    "import numpy as np\n",
    "sys.path.append(\"..\")\n",
    "import rfi_ml\n",
    "import matplotlib.pyplot as plt"
   ]
  },
  {
   "cell_type": "code",
   "execution_count": 2,
   "metadata": {},
   "outputs": [
    {
     "ename": "RuntimeError",
     "evalue": "[enforce fail at ..\\c10\\core\\CPUAllocator.cpp:75] data. DefaultCPUAllocator: not enough memory: you tried to allocate 24576081920 bytes. Buy new RAM!",
     "output_type": "error",
     "traceback": [
      "\u001b[1;31m---------------------------------------------------------------------------\u001b[0m",
      "\u001b[1;31mRuntimeError\u001b[0m                              Traceback (most recent call last)",
      "\u001b[1;32m<ipython-input-2-02d2f3f6500c>\u001b[0m in \u001b[0;36m<module>\u001b[1;34m\u001b[0m\n\u001b[0;32m     15\u001b[0m \u001b[1;33m\u001b[0m\u001b[0m\n\u001b[0;32m     16\u001b[0m \u001b[0mt\u001b[0m \u001b[1;33m=\u001b[0m \u001b[0mrfi_ml\u001b[0m\u001b[1;33m.\u001b[0m\u001b[0mToyGenerator\u001b[0m\u001b[1;33m(\u001b[0m\u001b[0mNp\u001b[0m\u001b[1;33m=\u001b[0m\u001b[0mNp\u001b[0m\u001b[1;33m)\u001b[0m\u001b[1;33m\u001b[0m\u001b[1;33m\u001b[0m\u001b[0m\n\u001b[1;32m---> 17\u001b[1;33m \u001b[0mg\u001b[0m \u001b[1;33m=\u001b[0m \u001b[0mtorch\u001b[0m\u001b[1;33m.\u001b[0m\u001b[0mstack\u001b[0m\u001b[1;33m(\u001b[0m\u001b[1;33m[\u001b[0m\u001b[0mtorch\u001b[0m\u001b[1;33m.\u001b[0m\u001b[0mfrom_numpy\u001b[0m\u001b[1;33m(\u001b[0m\u001b[0mt\u001b[0m\u001b[1;33m.\u001b[0m\u001b[0mgetGaussian\u001b[0m\u001b[1;33m(\u001b[0m\u001b[1;33m)\u001b[0m\u001b[1;33m)\u001b[0m \u001b[1;32mfor\u001b[0m \u001b[0mi\u001b[0m \u001b[1;32min\u001b[0m \u001b[0mrange\u001b[0m\u001b[1;33m(\u001b[0m\u001b[0mNtrain\u001b[0m\u001b[1;33m+\u001b[0m\u001b[0mNtest\u001b[0m\u001b[1;33m)\u001b[0m\u001b[1;33m]\u001b[0m\u001b[1;33m)\u001b[0m\u001b[1;33m\u001b[0m\u001b[1;33m\u001b[0m\u001b[0m\n\u001b[0m\u001b[0;32m     18\u001b[0m \u001b[0mrfi_array\u001b[0m \u001b[1;33m=\u001b[0m \u001b[0mnp\u001b[0m\u001b[1;33m.\u001b[0m\u001b[0mzeros\u001b[0m\u001b[1;33m(\u001b[0m\u001b[1;33m(\u001b[0m\u001b[0mNtrain\u001b[0m\u001b[1;33m+\u001b[0m\u001b[0mNtest\u001b[0m\u001b[1;33m,\u001b[0m \u001b[0mNp\u001b[0m\u001b[1;33m)\u001b[0m\u001b[1;33m,\u001b[0m \u001b[0mdtype\u001b[0m\u001b[1;33m=\u001b[0m\u001b[0mfloat\u001b[0m\u001b[1;33m)\u001b[0m\u001b[1;33m\u001b[0m\u001b[1;33m\u001b[0m\u001b[0m\n\u001b[0;32m     19\u001b[0m \u001b[1;32mfor\u001b[0m \u001b[0mi\u001b[0m \u001b[1;32min\u001b[0m \u001b[0mrange\u001b[0m\u001b[1;33m(\u001b[0m\u001b[0mNtrain\u001b[0m \u001b[1;33m+\u001b[0m \u001b[0mNtest\u001b[0m\u001b[1;33m)\u001b[0m\u001b[1;33m:\u001b[0m\u001b[1;33m\u001b[0m\u001b[1;33m\u001b[0m\u001b[0m\n",
      "\u001b[1;31mRuntimeError\u001b[0m: [enforce fail at ..\\c10\\core\\CPUAllocator.cpp:75] data. DefaultCPUAllocator: not enough memory: you tried to allocate 24576081920 bytes. Buy new RAM!"
     ]
    }
   ],
   "source": [
    "Ntrain = 100000*30 #the size of the training set\n",
    "Ntest = 10\n",
    "sigma_low = 20\n",
    "sigma_high = 50\n",
    "Nepochs = 30\n",
    "Nrfi = 1\n",
    "Np = 2**10 #1k\n",
    "z_dim = 16\n",
    "Nfft = Np // 2 + 1\n",
    "Pk = np.ones(Nfft)\n",
    "#lamb = 0.9 #lambda, scaling down Gaussianized amplitude\n",
    "np.random.seed(0) #for debugging\n",
    "torch.manual_seed(0) #more debugging\n",
    "start_time = time.time()\n",
    "\n",
    "t = rfi_ml.ToyGenerator(Np=Np)\n",
    "g = torch.stack([torch.from_numpy(t.getGaussian()) for i in range(Ntrain+Ntest)])\n",
    "rfi_array = np.zeros((Ntrain+Ntest, Np), dtype=float)\n",
    "for i in range(Ntrain + Ntest):\n",
    "    rfi_timestream = np.zeros(Np)\n",
    "    for j in range(Nrfi):\n",
    "        rfi_timestream += t.getNonGaussianLocalized(sigma=(sigma_low, sigma_high)) \n",
    "        #rfi_timestream += t.getNonGaussianLocalized(sigma=(sigma_low, sigma_high), ampl=(0.05, 0.05)) \n",
    "        #rfi_timestream += t.getNonGaussianNonlocalized(Pflip=1.0) \n",
    "    rfi_array[i,:] += rfi_timestream\n",
    "ng = torch.from_numpy(rfi_array)\n",
    "#ng = torch.stack([torch.from_numpy(t.getNonGaussianLocalized(sigma=(sigma_low, sigma_high))) for i in range(Ntrain+Ntest)])\n"
   ]
  },
  {
   "cell_type": "code",
   "execution_count": null,
   "metadata": {},
   "outputs": [],
   "source": [
    "n = rfi_ml.RFIDetect(Np, Nepochs = Nepochs, z_dim = z_dim)"
   ]
  },
  {
   "cell_type": "code",
   "execution_count": null,
   "metadata": {},
   "outputs": [],
   "source": [
    "n.train(g[:Ntrain], ng[:Ntrain])"
   ]
  },
  {
   "cell_type": "code",
   "execution_count": null,
   "metadata": {},
   "outputs": [],
   "source": [
    "testout = n.evaluate(g[Ntrain:], ng[Ntrain:])"
   ]
  },
  {
   "cell_type": "code",
   "execution_count": null,
   "metadata": {},
   "outputs": [],
   "source": [
    "n.plot_eval(testout, g[Ntrain:], ng[Ntrain:])"
   ]
  },
  {
   "cell_type": "code",
   "execution_count": null,
   "metadata": {},
   "outputs": [],
   "source": [
    "print(\"Runtime: \", time.time()-start_time)"
   ]
  }
 ],
 "metadata": {
  "kernelspec": {
   "display_name": "Python 3",
   "language": "python",
   "name": "python3"
  },
  "language_info": {
   "codemirror_mode": {
    "name": "ipython",
    "version": 3
   },
   "file_extension": ".py",
   "mimetype": "text/x-python",
   "name": "python",
   "nbconvert_exporter": "python",
   "pygments_lexer": "ipython3",
   "version": "3.8.10"
  }
 },
 "nbformat": 4,
 "nbformat_minor": 4
}
